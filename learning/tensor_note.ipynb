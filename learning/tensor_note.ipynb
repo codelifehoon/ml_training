{
 "cells": [
  {
   "cell_type": "code",
   "execution_count": 4,
   "metadata": {
    "scrolled": false
   },
   "outputs": [
    {
     "name": "stdout",
     "output_type": "stream",
     "text": [
      "[('은', 0.9830154180526733), ('12월', 0.9820900559425354), ('대한', 0.9820590019226074), ('의결', 0.9803413152694702), ('2일', 0.9800320863723755), ('핵소', 0.9797621965408325), ('타다', 0.977928638458252), ('28일', 0.9763150811195374), ('소', 0.9762887954711914), ('탄핵', 0.9761871695518494)]\n"
     ]
    },
    {
     "name": "stderr",
     "output_type": "stream",
     "text": [
      "/Users/codelife/virtualEnvPython/python3Env/lib/python3.6/site-packages/gensim/matutils.py:737: FutureWarning: Conversion of the second argument of issubdtype from `int` to `np.signedinteger` is deprecated. In future, it will be treated as `np.int64 == np.dtype(int).type`.\n",
      "  if np.issubdtype(vec.dtype, np.int):\n"
     ]
    }
   ],
   "source": [
    "%matplotlib inline\n",
    "import sys\n",
    "sys.path.insert(0, '/Users/codelife/Developer/tensorFlow/DeepLearningZeroToAll')\n",
    "\n",
    "from gensim.models import word2vec\n",
    "import tensorflow as tf\n",
    "import numpy as np\n",
    "import printutils as pu\n",
    "import matplotlib.pyplot as plt\n",
    "import pprint as pp\n",
    "from scipy import stats\n",
    "from konlpy.tag import  Okt\n",
    "import json\n",
    "import urllib.parse\n",
    "import urllib.request\n",
    "\n",
    "\n",
    "sess = tf.Session()\n",
    "sess.run(tf.global_variables_initializer())\n",
    "mode = word2vec.Word2Vec.load(\"word2vec_data.model\")\n",
    "result = mode.wv.most_similar(positive=[\"대통령\",\"24일\"])\n",
    "print(result) "
   ]
  },
  {
   "cell_type": "code",
   "execution_count": 6,
   "metadata": {},
   "outputs": [
    {
     "ename": "AttributeError",
     "evalue": "'ParseResult' object has no attribute 'timeout'",
     "output_type": "error",
     "traceback": [
      "\u001b[0;31m---------------------------------------------------------------------------\u001b[0m",
      "\u001b[0;31mAttributeError\u001b[0m                            Traceback (most recent call last)",
      "\u001b[0;32m<ipython-input-6-1a8565e00382>\u001b[0m in \u001b[0;36m<module>\u001b[0;34m()\u001b[0m\n\u001b[0;32m----> 1\u001b[0;31m \u001b[0mtokenjson\u001b[0m \u001b[0;34m=\u001b[0m \u001b[0murllib\u001b[0m\u001b[0;34m.\u001b[0m\u001b[0mrequest\u001b[0m\u001b[0;34m.\u001b[0m\u001b[0murlopen\u001b[0m\u001b[0;34m(\u001b[0m\u001b[0mparse\u001b[0m\u001b[0;34m.\u001b[0m\u001b[0murlparse\u001b[0m\u001b[0;34m(\u001b[0m\u001b[0;34m'https://open-korean-text-api.herokuapp.com/tokenize?text='\u001b[0m \u001b[0;34m+\u001b[0m \u001b[0;34m'dsdsa'\u001b[0m\u001b[0;34m)\u001b[0m\u001b[0;34m)\u001b[0m\u001b[0;34m.\u001b[0m\u001b[0mread\u001b[0m\u001b[0;34m(\u001b[0m\u001b[0;34m)\u001b[0m\u001b[0;34m\u001b[0m\u001b[0m\n\u001b[0m\u001b[1;32m      2\u001b[0m \u001b[0mprint\u001b[0m\u001b[0;34m(\u001b[0m\u001b[0mtokenjson\u001b[0m\u001b[0;34m)\u001b[0m\u001b[0;34m\u001b[0m\u001b[0m\n",
      "\u001b[0;32m/Library/Frameworks/Python.framework/Versions/3.6/lib/python3.6/urllib/request.py\u001b[0m in \u001b[0;36murlopen\u001b[0;34m(url, data, timeout, cafile, capath, cadefault, context)\u001b[0m\n\u001b[1;32m    221\u001b[0m     \u001b[0;32melse\u001b[0m\u001b[0;34m:\u001b[0m\u001b[0;34m\u001b[0m\u001b[0m\n\u001b[1;32m    222\u001b[0m         \u001b[0mopener\u001b[0m \u001b[0;34m=\u001b[0m \u001b[0m_opener\u001b[0m\u001b[0;34m\u001b[0m\u001b[0m\n\u001b[0;32m--> 223\u001b[0;31m     \u001b[0;32mreturn\u001b[0m \u001b[0mopener\u001b[0m\u001b[0;34m.\u001b[0m\u001b[0mopen\u001b[0m\u001b[0;34m(\u001b[0m\u001b[0murl\u001b[0m\u001b[0;34m,\u001b[0m \u001b[0mdata\u001b[0m\u001b[0;34m,\u001b[0m \u001b[0mtimeout\u001b[0m\u001b[0;34m)\u001b[0m\u001b[0;34m\u001b[0m\u001b[0m\n\u001b[0m\u001b[1;32m    224\u001b[0m \u001b[0;34m\u001b[0m\u001b[0m\n\u001b[1;32m    225\u001b[0m \u001b[0;32mdef\u001b[0m \u001b[0minstall_opener\u001b[0m\u001b[0;34m(\u001b[0m\u001b[0mopener\u001b[0m\u001b[0;34m)\u001b[0m\u001b[0;34m:\u001b[0m\u001b[0;34m\u001b[0m\u001b[0m\n",
      "\u001b[0;32m/Library/Frameworks/Python.framework/Versions/3.6/lib/python3.6/urllib/request.py\u001b[0m in \u001b[0;36mopen\u001b[0;34m(self, fullurl, data, timeout)\u001b[0m\n\u001b[1;32m    515\u001b[0m                 \u001b[0mreq\u001b[0m\u001b[0;34m.\u001b[0m\u001b[0mdata\u001b[0m \u001b[0;34m=\u001b[0m \u001b[0mdata\u001b[0m\u001b[0;34m\u001b[0m\u001b[0m\n\u001b[1;32m    516\u001b[0m \u001b[0;34m\u001b[0m\u001b[0m\n\u001b[0;32m--> 517\u001b[0;31m         \u001b[0mreq\u001b[0m\u001b[0;34m.\u001b[0m\u001b[0mtimeout\u001b[0m \u001b[0;34m=\u001b[0m \u001b[0mtimeout\u001b[0m\u001b[0;34m\u001b[0m\u001b[0m\n\u001b[0m\u001b[1;32m    518\u001b[0m         \u001b[0mprotocol\u001b[0m \u001b[0;34m=\u001b[0m \u001b[0mreq\u001b[0m\u001b[0;34m.\u001b[0m\u001b[0mtype\u001b[0m\u001b[0;34m\u001b[0m\u001b[0m\n\u001b[1;32m    519\u001b[0m \u001b[0;34m\u001b[0m\u001b[0m\n",
      "\u001b[0;31mAttributeError\u001b[0m: 'ParseResult' object has no attribute 'timeout'"
     ]
    }
   ],
   "source": [
    "tokenjson = urllib.request.urlopen(parse.urlparse('https://open-korean-text-api.herokuapp.com/tokenize?text=' + 'dsdsa')).read()\n",
    "print(tokenjson)\n"
   ]
  },
  {
   "cell_type": "code",
   "execution_count": 4,
   "metadata": {},
   "outputs": [
    {
     "name": "stdout",
     "output_type": "stream",
     "text": [
      "[1, 2, [3, 4]]\n"
     ]
    }
   ],
   "source": [
    "lists = list = [1, 2, (3, 4)]\n",
    "print(json.dumps(list))"
   ]
  },
  {
   "cell_type": "code",
   "execution_count": 15,
   "metadata": {
    "scrolled": true
   },
   "outputs": [
    {
     "name": "stdout",
     "output_type": "stream",
     "text": [
      "[[11]\n",
      " [25]]\n"
     ]
    }
   ],
   "source": [
    "matrix1 = tf.constant([[1,2],[3,4]])\n",
    "matrix2 = tf.constant([[3],[4]])\n",
    "\n",
    "print(tf.matmul(matrix1,matrix2).eval(session=tf.Session()))"
   ]
  },
  {
   "cell_type": "markdown",
   "metadata": {},
   "source": [
    "> 집합연산을 위해 matmul 사용가능"
   ]
  },
  {
   "cell_type": "markdown",
   "metadata": {},
   "source": [
    "> cast 예제"
   ]
  },
  {
   "cell_type": "code",
   "execution_count": 16,
   "metadata": {},
   "outputs": [
    {
     "name": "stdout",
     "output_type": "stream",
     "text": [
      "[array([0., 1.], dtype=float32), array([1, 2], dtype=int32), array([False,  True]), array([0., 1.], dtype=float32)]\n"
     ]
    }
   ],
   "source": [
    "float_x = tf.constant([1.5,2.5])\n",
    "int_x = tf.cast(float_x,tf.int32)\n",
    "boolean_x = tf.cast(float_x > 2,tf.bool)\n",
    "float_x = tf.cast(float_x > 2,tf.float32)\n",
    "\n",
    "print(sess.run([float_x,int_x,boolean_x,float_x]))\n"
   ]
  },
  {
   "cell_type": "markdown",
   "metadata": {},
   "source": [
    "> axis = 0 행 sum\n",
    "> axis = 1 열 sum"
   ]
  },
  {
   "cell_type": "code",
   "execution_count": 22,
   "metadata": {},
   "outputs": [
    {
     "name": "stdout",
     "output_type": "stream",
     "text": [
      "[[0 1 2]\n",
      " [3 4 5]]\n",
      "[ 3 12]\n"
     ]
    }
   ],
   "source": [
    "\n",
    "x = np.arange(6).reshape(2,3)\n",
    "print(x)\n",
    "print(sess.run(tf.reduce_sum(x,axis=1)))\n"
   ]
  },
  {
   "cell_type": "code",
   "execution_count": 32,
   "metadata": {},
   "outputs": [
    {
     "name": "stdout",
     "output_type": "stream",
     "text": [
      "[3]\n",
      "[1 5]\n",
      "[5]\n",
      "[2 4]\n",
      "-----------add------------\n",
      "[8]\n",
      "[3 9]\n",
      "[[ 2 10]\n",
      " [ 4  8]]\n",
      "-----------sub------------\n",
      "-----------mul------------\n"
     ]
    },
    {
     "ename": "AttributeError",
     "evalue": "module 'tensorflow' has no attribute 'mul'",
     "output_type": "error",
     "traceback": [
      "\u001b[0;31m---------------------------------------------------------------------------\u001b[0m",
      "\u001b[0;31mAttributeError\u001b[0m                            Traceback (most recent call last)",
      "\u001b[0;32m<ipython-input-32-150308e2c882>\u001b[0m in \u001b[0;36m<module>\u001b[0;34m()\u001b[0m\n\u001b[1;32m     18\u001b[0m \u001b[0;34m\u001b[0m\u001b[0m\n\u001b[1;32m     19\u001b[0m \u001b[0mprint\u001b[0m\u001b[0;34m(\u001b[0m\u001b[0;34m'-----------mul------------'\u001b[0m\u001b[0;34m)\u001b[0m\u001b[0;34m\u001b[0m\u001b[0m\n\u001b[0;32m---> 20\u001b[0;31m \u001b[0mpu\u001b[0m\u001b[0;34m.\u001b[0m\u001b[0mshowOperation\u001b[0m\u001b[0;34m(\u001b[0m\u001b[0mtf\u001b[0m\u001b[0;34m.\u001b[0m\u001b[0mmul\u001b[0m\u001b[0;34m(\u001b[0m\u001b[0mc1\u001b[0m\u001b[0;34m,\u001b[0m \u001b[0mv1\u001b[0m\u001b[0;34m)\u001b[0m\u001b[0;34m)\u001b[0m         \u001b[0;31m# [15]\u001b[0m\u001b[0;34m\u001b[0m\u001b[0m\n\u001b[0m\u001b[1;32m     21\u001b[0m \u001b[0mpu\u001b[0m\u001b[0;34m.\u001b[0m\u001b[0mshowOperation\u001b[0m\u001b[0;34m(\u001b[0m\u001b[0mtf\u001b[0m\u001b[0;34m.\u001b[0m\u001b[0mmul\u001b[0m\u001b[0;34m(\u001b[0m\u001b[0mc2\u001b[0m\u001b[0;34m,\u001b[0m \u001b[0mv2\u001b[0m\u001b[0;34m)\u001b[0m\u001b[0;34m)\u001b[0m         \u001b[0;31m# [ 2 20]\u001b[0m\u001b[0;34m\u001b[0m\u001b[0m\n\u001b[1;32m     22\u001b[0m \u001b[0;34m\u001b[0m\u001b[0m\n",
      "\u001b[0;31mAttributeError\u001b[0m: module 'tensorflow' has no attribute 'mul'"
     ]
    }
   ],
   "source": [
    "\n",
    "c1, c2 = tf.constant([3]), tf.constant([1, 5])\n",
    "v1, v2 = tf.Variable([5]), tf.Variable([2, 4])\n",
    "\n",
    "pu.showConstant(c1)\n",
    "pu.showConstant(c2)\n",
    "pu.showVariable(v1)\n",
    "pu.showVariable(v2)\n",
    "\n",
    "print('-----------add------------')\n",
    "pu.showOperation(tf.add(c1, v1))         # [8]\n",
    "pu.showOperation(tf.add(c2, v2))         # [3 9]\n",
    "pu.showOperation(tf.add([c2, v2], [c2, v2]))   # [[ 2 10] [ 4  8]]\n",
    "\n",
    "print('-----------sub------------')\n",
    "pu.showOperation(tf.sub(c1, v1))         # [-2]\n",
    "pu.showOperation(tf.sub(c2, v2))         # [-1  1]\n",
    "\n",
    "print('-----------mul------------')\n",
    "pu.showOperation(tf.mul(c1, v1))         # [15]\n",
    "pu.showOperation(tf.mul(c2, v2))         # [ 2 20]\n",
    "\n",
    "print('-----------div------------')\n",
    "pu.showOperation(tf.div(c1, v1))         # [0]\n",
    "pu.showOperation(tf.div(c2, v2))         # [0 1]\n",
    "\n",
    "print('-----------truediv------------')\n",
    "pu.showOperation(tf.truediv(c1, v1))     # [ 0.6]\n",
    "pu.showOperation(tf.truediv(c2, v2))     # [ 0.5  1.25]\n",
    "\n",
    "print('-----------floordiv------------')\n",
    "pu.showOperation(tf.floordiv(c1, v1))    # [0]\n",
    "pu.showOperation(tf.floordiv(c2, v2))    # [0 1]\n",
    "\n",
    "print('-----------mod------------')\n",
    "pu.showOperation(tf.mod(c1, v1))         # [3]\n",
    "pu.showOperation(tf.mod(c2, v2))         # [1 1]\n",
    "\n"
   ]
  },
  {
   "cell_type": "code",
   "execution_count": 47,
   "metadata": {
    "scrolled": true
   },
   "outputs": [
    {
     "name": "stdout",
     "output_type": "stream",
     "text": [
      "[[0.1 0.3 0.5]\n",
      " [0.2 0.4 0.1]]\n",
      "[1 1 0]\n",
      "[2 1]\n",
      "[ True  True]\n"
     ]
    },
    {
     "name": "stderr",
     "output_type": "stream",
     "text": [
      "/Users/codelife/virtualEnvPython/python3Env/lib/python3.6/site-packages/tensorflow/python/client/session.py:1714: UserWarning: An interactive session is already active. This can cause out-of-memory errors in some cases. You must explicitly call `InteractiveSession.close()` to release resources held by the other session(s).\n",
      "  warnings.warn('An interactive session is already active. This can '\n"
     ]
    }
   ],
   "source": [
    "a1 = tf.Variable([[0.1, 0.3, 0.5],\n",
    "                 [0.2, 0.4, 0.1],])\n",
    "pu.showOperation(a1)\n",
    "pu.showOperation(tf.argmax(a1, 0))\n",
    "pu.showOperation(tf.argmax(a1, 1))\n",
    "pu.showOperation(tf.equal(tf.argmax(a1, 1),tf.argmax(a1, 1)))\n",
    "\n"
   ]
  },
  {
   "cell_type": "code",
   "execution_count": 6,
   "metadata": {
    "scrolled": true
   },
   "outputs": [
    {
     "name": "stdout",
     "output_type": "stream",
     "text": [
      "1 a\n",
      "2 b\n",
      "3 c\n",
      "4 d\n"
     ]
    }
   ],
   "source": [
    "# zip example\n",
    "\n",
    "\n",
    "zipList = list(zip([1, 2, 3, 4], ['a', 'b', 'c', 'd']))\n",
    "\n",
    "for n,z in zipList:\n",
    "        print(n,z)\n",
    "\n"
   ]
  },
  {
   "cell_type": "code",
   "execution_count": 22,
   "metadata": {
    "scrolled": true
   },
   "outputs": [
    {
     "name": "stdout",
     "output_type": "stream",
     "text": [
      "[ 1.1703304   0.07500564  1.2309972   0.0797649  -0.94391006  0.19687134\n",
      "  0.3484989   1.2280704  -0.03360825 -0.72541714  1.3346494   0.64093345\n",
      " -0.75427586 -0.8187179  -0.61439794  1.4031149  -0.8789373  -1.918655\n",
      "  1.5862399   1.4612187  -1.7533852  -0.23906626 -0.5186776   0.54823536\n",
      " -1.1415995  -0.786885   -0.7334209  -0.04369904  0.6534959   0.08382301\n",
      " -0.6528201   0.7677354  -0.09128365  0.07693268 -0.767343    0.23907131\n",
      " -1.822084   -1.0033374  -0.21044005 -0.3916857  -1.0647997   0.26058906\n",
      "  2.0050926   0.10866079 -0.18951271  1.3901689   2.2232187   1.7643422\n",
      "  0.8683574   0.6543048  -1.0891433  -1.157149   -0.79843664 -1.2584889\n",
      " -0.324029   -0.24953912  0.5510986   0.02264178 -0.11050975  1.841856  ]\n"
     ]
    }
   ],
   "source": [
    "\n",
    "# print(pu.showOperation(tf.random_normal([5, 4, 3])))\n",
    "pu.showOperation(tf.reshape(tf.random_normal([5, 4, 3]),[60]))"
   ]
  },
  {
   "cell_type": "code",
   "execution_count": 11,
   "metadata": {
    "scrolled": true
   },
   "outputs": [
    {
     "name": "stdout",
     "output_type": "stream",
     "text": [
      "[[1. 2. 3.]\n",
      " [4. 5. 6.]\n",
      " [7. 8. 9.]]\n"
     ]
    },
    {
     "data": {
      "text/plain": [
       "<matplotlib.image.AxesImage at 0x11ade6400>"
      ]
     },
     "execution_count": 11,
     "metadata": {},
     "output_type": "execute_result"
    },
    {
     "data": {
      "image/png": "[encoded data removed]",
      "text/plain": [
       "<Figure size 432x288 with 1 Axes>"
      ]
     },
     "metadata": {},
     "output_type": "display_data"
    }
   ],
   "source": [
    "img9x9 = np.array([1,2,3,4,5,6,7,8,9])\n",
    "img9x9 = sess.run(tf.reshape(img9x9,[3,3]))\n",
    "\n",
    "\n",
    "img9x9_2 = np.array([1,2,3,4,5,6,7,8,9],dtype=np.float32).reshape(3,3)\n",
    "print(img9x9_2)\n",
    "\n",
    "plt.imshow( img9x9_2, cmap='Greys')\n"
   ]
  },
  {
   "cell_type": "code",
   "execution_count": 7,
   "metadata": {},
   "outputs": [
    {
     "name": "stdout",
     "output_type": "stream",
     "text": [
      "[[1 2 3]\n",
      " [4 5 6]\n",
      " [7 8 9]]\n",
      "[[1 2]\n",
      " [4 5]\n",
      " [7 8]]\n",
      "[3 6 9]\n",
      "[[3]\n",
      " [6]\n",
      " [9]]\n"
     ]
    }
   ],
   "source": [
    "matrix = np.array([[1,2,3],[4,5,6],[7,8,9]])\n",
    "print(matrix)\n",
    "print(matrix[:,0:-1])\n",
    "print(matrix[:, -1])\n",
    "print(matrix[:, -1:])\n",
    "\n",
    "\n",
    "\n",
    "\n",
    "\n"
   ]
  },
  {
   "cell_type": "code",
   "execution_count": 15,
   "metadata": {},
   "outputs": [
    {
     "name": "stdout",
     "output_type": "stream",
     "text": [
      "[[1 2 3]\n",
      " [4 5 4]\n",
      " [6 7 8]]\n",
      "[1 2 3] [4 5 4] [6 7 8]\n",
      "[1 2 3]\n",
      "[4 5 4]\n",
      "[6 7 8]\n"
     ]
    }
   ],
   "source": [
    "numbers = np.array([[1, 2, 3], [4, 5,4], [6, 7, 8 ]])\n",
    "print(numbers)\n",
    "print(*numbers)\n",
    "print(*numbers, sep='\\n')\n",
    " "
   ]
  },
  {
   "cell_type": "code",
   "execution_count": 3,
   "metadata": {
    "scrolled": true
   },
   "outputs": [
    {
     "name": "stdout",
     "output_type": "stream",
     "text": [
      "[[ 0  1  2  3]\n",
      " [ 4  5  6  7]\n",
      " [ 8  9 10 11]\n",
      " [12 13 14 15]\n",
      " [16 17 18 19]]\n"
     ]
    },
    {
     "data": {
      "text/plain": [
       "array([2.82842712, 2.82842712, 2.82842712, 2.82842712])"
      ]
     },
     "execution_count": 3,
     "metadata": {},
     "output_type": "execute_result"
    }
   ],
   "source": [
    "a = np.arange(20).reshape(5,4)\n",
    "print(a)\n",
    "stats.sem(a)\n",
    "\n"
   ]
  },
  {
   "cell_type": "code",
   "execution_count": 2,
   "metadata": {},
   "outputs": [
    {
     "name": "stdout",
     "output_type": "stream",
     "text": [
      "['블루', '200', 'mm']\n"
     ]
    }
   ],
   "source": [
    "twitter = Okt()\n",
    "r = []\n",
    "malist = twitter.pos('블루200mm',norm=True,stem=True)\n",
    "for (word,pumsa) in malist:\n",
    "    if not pumsa in [\"Josa\",\"Eomi\",\"Punctuation\"]:\n",
    "        r.append(word)\n",
    "        \n",
    "print(r)\n",
    "\n"
   ]
  }
 ],
 "metadata": {
  "kernelspec": {
   "display_name": "Python 3",
   "language": "python",
   "name": "python3"
  },
  "language_info": {
   "codemirror_mode": {
    "name": "ipython",
    "version": 3
   },
   "file_extension": ".py",
   "mimetype": "text/x-python",
   "name": "python",
   "nbconvert_exporter": "python",
   "pygments_lexer": "ipython3",
   "version": "3.6.6"
  }
 },
 "nbformat": 4,
 "nbformat_minor": 2
}
